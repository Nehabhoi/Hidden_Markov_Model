{
 "cells": [
  {
   "cell_type": "code",
   "execution_count": 51,
   "metadata": {},
   "outputs": [],
   "source": [
    "import pandas as pd\n",
    "dataset=pd.read_csv(\"./Project2Data.txt\",delimiter=\",\",header=None,)\n"
   ]
  },
  {
   "cell_type": "code",
   "execution_count": 52,
   "metadata": {},
   "outputs": [
    {
     "name": "stdout",
     "output_type": "stream",
     "text": [
      "aij Matrix:\n",
      "           sunny      rainy     foggy\n",
      "sunny  0.795132  0.0547667  0.150101\n",
      "rainy  0.195918   0.579592   0.22449\n",
      "foggy  0.206897   0.291188  0.501916\n"
     ]
    }
   ],
   "source": [
    "def calculate_transmission_probabilities():\n",
    "    previous_row = []\n",
    "    sunny_sunny , sunny_rainy , sunny_foggy = 0,0,0\n",
    "    rainy_rainy , rainy_sunny , rainy_foggy =0,0,0\n",
    "    foggy_foggy , foggy_sunny , foggy_rainy =0,0,0\n",
    "    for index, row in dataset.iterrows():\n",
    "        if(len(previous_row) != 0):\n",
    "            if(previous_row[0] == \"sunny\" and row[0] == \"sunny\"):\n",
    "                sunny_sunny = sunny_sunny + 1\n",
    "            elif(previous_row[0] == \"sunny\" and row[0] == \"foggy\"):\n",
    "                sunny_foggy = sunny_foggy + 1\n",
    "            elif(previous_row[0] == \"sunny\" and row[0] == \"rainy\"):\n",
    "                sunny_rainy = sunny_rainy + 1\n",
    "            elif(previous_row[0] == \"rainy\" and row[0] == \"rainy\"):\n",
    "                rainy_rainy = rainy_rainy + 1\n",
    "            elif(previous_row[0] == \"rainy\" and row[0] == \"foggy\"):\n",
    "                rainy_foggy = rainy_foggy + 1\n",
    "            elif(previous_row[0] == \"rainy\" and row[0] == \"sunny\"):\n",
    "                rainy_sunny = rainy_sunny + 1\n",
    "            elif(previous_row[0] == \"foggy\" and row[0] == \"foggy\"):\n",
    "                foggy_foggy = foggy_foggy + 1\n",
    "            elif(previous_row[0] == \"foggy\" and row[0] == \"rainy\"):\n",
    "                foggy_rainy = foggy_rainy + 1\n",
    "            elif(previous_row[0] == \"foggy\" and row[0] == \"sunny\"):\n",
    "                foggy_sunny = foggy_sunny + 1\n",
    "            previous_row = row\n",
    "        else:\n",
    "            previous_row = row\n",
    "\n",
    "    prob_sunny_sunny = sunny_sunny / (sunny_sunny + sunny_rainy + sunny_foggy)\n",
    "    prob_sunny_rainy = sunny_rainy / (sunny_sunny + sunny_rainy + sunny_foggy)\n",
    "    prob_sunny_foggy = sunny_foggy / (sunny_sunny + sunny_rainy + sunny_foggy)\n",
    "\n",
    "    prob_rainy_rainy = rainy_rainy / (rainy_rainy + rainy_sunny + rainy_foggy)\n",
    "    prob_rainy_sunny = rainy_sunny / (rainy_rainy + rainy_sunny + rainy_foggy)\n",
    "    prob_rainy_foggy = rainy_foggy / (rainy_rainy + rainy_sunny + rainy_foggy)\n",
    "\n",
    "    prob_foggy_foggy = foggy_foggy / (foggy_foggy + foggy_sunny + foggy_rainy)\n",
    "    prob_foggy_sunny = fs / (foggy_foggy + foggy_sunny + foggy_rainy)\n",
    "    prob_foggy_rainy = fr / (foggy_foggy + foggy_sunny + foggy_rainy)\n",
    "    \n",
    "    hidden_states = ['sunny','rainy','foggy']\n",
    "    aij_df=pd.DataFrame(columns = hidden_states, index = hidden_states)\n",
    "    aij_df.loc[hidden_states[0]] = [prob_sunny_sunny,prob_sunny_rainy,prob_sunny_foggy]\n",
    "    aij_df.loc[hidden_states[1]] = [prob_rainy_sunny,prob_rainy_rainy,prob_rainy_foggy]\n",
    "    aij_df.loc[hidden_states[2]] = [prob_foggy_sunny,prob_foggy_rainy,prob_foggy_foggy]\n",
    "    return aij_df\n",
    "\n",
    "aij_df =calculate_transmission_probabilities()\n",
    "\n",
    "print(\"aij Matrix:\\n\", aij_df)\n",
    "\n"
   ]
  },
  {
   "cell_type": "code",
   "execution_count": 53,
   "metadata": {},
   "outputs": [
    {
     "name": "stdout",
     "output_type": "stream",
     "text": [
      "bjk Matrix:\n",
      "          sunny     rainy     foggy\n",
      "yes  0.0850202  0.812245  0.302682\n",
      "no     0.91498  0.187755  0.697318\n"
     ]
    }
   ],
   "source": [
    "def Calculate_emisiion_probability():\n",
    "    sunny_yes, sunny_no = 0 ,0\n",
    "    rainy_yes, rainy_no = 0, 0\n",
    "    foggy_yes, foggy_no = 0, 0\n",
    "\n",
    "    for index, row in dataset.iterrows():\n",
    "        if(row[0] == \"sunny\" and row[1] == \"yes\"):\n",
    "            sunny_yes = sunny_yes + 1\n",
    "        elif(row[0] == \"sunny\" and row[1] == \"no\"):\n",
    "            sunny_no = sunny_no + 1\n",
    "        elif(row[0] == \"rainy\" and row[1] == \"yes\"):\n",
    "            rainy_yes = rainy_yes + 1\n",
    "        elif(row[0] == \"rainy\" and row[1] == \"no\"):\n",
    "            rainy_no = rainy_no + 1\n",
    "        elif(row[0] == \"foggy\" and row[1] == \"yes\"):\n",
    "            foggy_yes = foggy_yes + 1\n",
    "        elif(row[0] == \"foggy\" and row[1] == \"no\"):\n",
    "            foggy_no = foggy_no + 1\n",
    "\n",
    "    prob_sunny_yes = sunny_yes / (sunny_yes + sunny_no)\n",
    "    prob_sunny_no = sunny_no / (sunny_yes + sunny_no)\n",
    "\n",
    "    prob_rainy_yes = rainy_yes / (rainy_yes + rainy_no)\n",
    "    prob_rainy_no = rainy_no / (rainy_yes + rainy_no)\n",
    "\n",
    "    prob_foggy_yes = foggy_yes / (foggy_yes + foggy_no)\n",
    "    prob_foggy_no = foggy_no / (foggy_yes + foggy_no)\n",
    "\n",
    "    observable_states = ['yes','no']\n",
    "    hidden_states = ['sunny','rainy','foggy']\n",
    "    bjk_df = pd.DataFrame(columns= hidden_states, index= observable_states)\n",
    "    bjk_df.loc[observable_states[0]] = [prob_sunny_yes , prob_rainy_yes , prob_foggy_yes]\n",
    "    bjk_df.loc[observable_states[1]] = [prob_sunny_no , prob_rainy_no , prob_foggy_no]\n",
    "\n",
    "    return bjk_df\n",
    "\n",
    "bjk_df = Calculate_emisiion_probability()\n",
    "print(\"bjk Matrix:\\n\",bjk_df)"
   ]
  },
  {
   "cell_type": "code",
   "execution_count": null,
   "metadata": {},
   "outputs": [],
   "source": []
  }
 ],
 "metadata": {
  "kernelspec": {
   "display_name": "Python 3",
   "language": "python",
   "name": "python3"
  },
  "language_info": {
   "codemirror_mode": {
    "name": "ipython",
    "version": 3
   },
   "file_extension": ".py",
   "mimetype": "text/x-python",
   "name": "python",
   "nbconvert_exporter": "python",
   "pygments_lexer": "ipython3",
   "version": "3.7.3"
  }
 },
 "nbformat": 4,
 "nbformat_minor": 2
}
